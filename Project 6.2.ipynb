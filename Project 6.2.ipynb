{
 "cells": [
  {
   "cell_type": "markdown",
   "metadata": {},
   "source": [
    "# Project 6"
   ]
  },
  {
   "cell_type": "markdown",
   "metadata": {},
   "source": [
    "Using Faolax Policies and Procedures Dataset"
   ]
  },
  {
   "cell_type": "code",
   "execution_count": 37,
   "metadata": {},
   "outputs": [],
   "source": [
    "import pandas as pd\n",
    "import numpy as np\n",
    "import seaborn as sns\n",
    "import matplotlib.pyplot as plt\n",
    "import matplotlib\n",
    "import os"
   ]
  },
  {
   "cell_type": "code",
   "execution_count": 3,
   "metadata": {},
   "outputs": [],
   "source": [
    "df = pd.read_csv(r\"C:\\Users\\eppin\\Desktop\\career-foundry\\project 6\\FAOLEX_All.csv\")"
   ]
  },
  {
   "cell_type": "code",
   "execution_count": 3,
   "metadata": {},
   "outputs": [
    {
     "data": {
      "text/plain": [
       "(188238, 18)"
      ]
     },
     "execution_count": 3,
     "metadata": {},
     "output_type": "execute_result"
    }
   ],
   "source": [
    "df.shape"
   ]
  },
  {
   "cell_type": "code",
   "execution_count": 4,
   "metadata": {},
   "outputs": [
    {
     "data": {
      "text/plain": [
       "Record Id                  object\n",
       "Record URL                 object\n",
       "Document URL               object\n",
       "Title                      object\n",
       "Original title             object\n",
       "Date of original text      object\n",
       "Last amended date          object\n",
       "Available website          object\n",
       "Language of document       object\n",
       "Country/Territory          object\n",
       "Regional organizations     object\n",
       "Territorial subdivision    object\n",
       "Type of text               object\n",
       "Repealed                   object\n",
       "Abstract                   object\n",
       "Primary subjects           object\n",
       "Domain                     object\n",
       "Keywords                   object\n",
       "dtype: object"
      ]
     },
     "execution_count": 4,
     "metadata": {},
     "output_type": "execute_result"
    }
   ],
   "source": [
    "df.dtypes"
   ]
  },
  {
   "cell_type": "code",
   "execution_count": 5,
   "metadata": {},
   "outputs": [],
   "source": [
    "count = df.isna().sum()"
   ]
  },
  {
   "cell_type": "code",
   "execution_count": 6,
   "metadata": {},
   "outputs": [
    {
     "data": {
      "text/plain": [
       "Record Id                       0\n",
       "Record URL                      0\n",
       "Document URL                   13\n",
       "Title                           0\n",
       "Original title             128594\n",
       "Date of original text          47\n",
       "Last amended date          160298\n",
       "Available website           46419\n",
       "Language of document           90\n",
       "Country/Territory             675\n",
       "Regional organizations     187523\n",
       "Territorial subdivision    156570\n",
       "Type of text                    0\n",
       "Repealed                   166075\n",
       "Abstract                      200\n",
       "Primary subjects                2\n",
       "Domain                          6\n",
       "Keywords                        6\n",
       "dtype: int64"
      ]
     },
     "execution_count": 6,
     "metadata": {},
     "output_type": "execute_result"
    }
   ],
   "source": [
    "count"
   ]
  },
  {
   "cell_type": "code",
   "execution_count": 5,
   "metadata": {},
   "outputs": [],
   "source": [
    "#columns that can be dropped - last amended date, regional organizations, territorial subdivision and repealed\n",
    "df = df.drop(['Last amended date', 'Regional organizations', 'Territorial subdivision', 'Repealed'], axis=1)  "
   ]
  },
  {
   "cell_type": "code",
   "execution_count": 6,
   "metadata": {},
   "outputs": [],
   "source": [
    "values = df['Domain'].value_counts"
   ]
  },
  {
   "cell_type": "code",
   "execution_count": 7,
   "metadata": {},
   "outputs": [
    {
     "data": {
      "text/plain": [
       "<bound method IndexOpsMixin.value_counts of 0                  Environment; Fisheries; Sea\n",
       "1                                          Sea\n",
       "2                                          Sea\n",
       "3                                    Fisheries\n",
       "4                                    Fisheries\n",
       "                          ...                 \n",
       "188233                               Livestock\n",
       "188234                             Agriculture\n",
       "188235                               Fisheries\n",
       "188236                                  Energy\n",
       "188237    Energy; Waste & hazardous substances\n",
       "Name: Domain, Length: 188238, dtype: object>"
      ]
     },
     "execution_count": 7,
     "metadata": {},
     "output_type": "execute_result"
    }
   ],
   "source": [
    "values"
   ]
  },
  {
   "cell_type": "code",
   "execution_count": 10,
   "metadata": {},
   "outputs": [
    {
     "data": {
      "text/plain": [
       "<bound method NDFrame.describe of              Record Id                                         Record URL  \\\n",
       "0       LEX-FAOC001001  http://www.fao.org/faolex/results/details/en/c...   \n",
       "1       LEX-FAOC001002  http://www.fao.org/faolex/results/details/en/c...   \n",
       "2       LEX-FAOC001003  http://www.fao.org/faolex/results/details/en/c...   \n",
       "3       LEX-FAOC001005  http://www.fao.org/faolex/results/details/en/c...   \n",
       "4       LEX-FAOC001006  http://www.fao.org/faolex/results/details/en/c...   \n",
       "...                ...                                                ...   \n",
       "188233  LEX-FAOC206134  http://www.fao.org/faolex/results/details/en/c...   \n",
       "188234  LEX-FAOC206135  http://www.fao.org/faolex/results/details/en/c...   \n",
       "188235  LEX-FAOC040424  http://www.fao.org/faolex/results/details/en/c...   \n",
       "188236  LEX-FAOC167415  http://www.fao.org/faolex/results/details/en/c...   \n",
       "188237  LEX-FAOC167416  http://www.fao.org/faolex/results/details/en/c...   \n",
       "\n",
       "                                             Document URL  \\\n",
       "0             http://faolex.fao.org/docs/pdf/alb1001F.pdf   \n",
       "1             http://faolex.fao.org/docs/pdf/alb1002E.pdf   \n",
       "2       http://faolex.fao.org/docs/pdf/alg1003.pdf; ht...   \n",
       "3              http://faolex.fao.org/docs/pdf/alg1005.pdf   \n",
       "4              http://faolex.fao.org/docs/pdf/alg1006.pdf   \n",
       "...                                                   ...   \n",
       "188233        http://faolex.fao.org/docs/pdf/tw206134.pdf   \n",
       "188234  http://faolex.fao.org/docs/pdf/tw206135.pdf; h...   \n",
       "188235        http://faolex.fao.org/docs/pdf/bi-40424.pdf   \n",
       "188236  http://faolex.fao.org/docs/pdf/bi-167415.pdf; ...   \n",
       "188237       http://faolex.fao.org/docs/pdf/bi-167416.pdf   \n",
       "\n",
       "                                                    Title  \\\n",
       "0                               Loi nº 6071 sur la pêche.   \n",
       "1       Decree No. 4650 on the boundary of the People'...   \n",
       "2       Décret nº 84-181 définissant les lignes de bas...   \n",
       "3       Ordonnance nº 76-84 portant réglementation gén...   \n",
       "4       Décret nº 79-236 portant création de l'entrepr...   \n",
       "...                                                   ...   \n",
       "188233  Regulations Governing Mandatory Insurance and ...   \n",
       "188234                        Agricultural Insurance Act.   \n",
       "188235  Agreement between the Government of of the Coo...   \n",
       "188236  Memorandum of Understanding between the Interc...   \n",
       "188237  Memorandum of Understanding on Nuclear Coopera...   \n",
       "\n",
       "             Original title Date of original text  \\\n",
       "0                       NaN            25-12-1979   \n",
       "1                       NaN            09-03-1970   \n",
       "2                       NaN            04-08-1984   \n",
       "3                       NaN            23-10-1976   \n",
       "4                       NaN            24-11-1979   \n",
       "...                     ...                   ...   \n",
       "188233  豬隻死亡保險強制投保及保險費補助辦法.            02-11-2021   \n",
       "188234               農業保險法.            27-05-2020   \n",
       "188235                  NaN            30-01-1984   \n",
       "188236                  NaN            20-11-2014   \n",
       "188237                  NaN            18-01-2013   \n",
       "\n",
       "                  Available website Language of document  \\\n",
       "0                               NaN               French   \n",
       "1                               NaN     English; Italian   \n",
       "2                        www.un.org      French; English   \n",
       "3                               NaN               French   \n",
       "4                               NaN               French   \n",
       "...                             ...                  ...   \n",
       "188233  https://gazette.nat.gov.tw/              Chinese   \n",
       "188234      https://law.moj.gov.tw/              Chinese   \n",
       "188235                          NaN              English   \n",
       "188236              erss.aec.gov.tw              Chinese   \n",
       "188237              erss.aec.gov.tw              Chinese   \n",
       "\n",
       "                               Country/Territory Type of text  \\\n",
       "0                                        Albania  Legislation   \n",
       "1                                        Albania   Regulation   \n",
       "2                                        Algeria   Regulation   \n",
       "3                                        Algeria  Legislation   \n",
       "4                                        Algeria   Regulation   \n",
       "...                                          ...          ...   \n",
       "188233                  Taiwan Province of China   Regulation   \n",
       "188234                  Taiwan Province of China  Legislation   \n",
       "188235    Cook Islands; Taiwan Province of China    Agreement   \n",
       "188236           Taiwan Province of China; Japan    Agreement   \n",
       "188237  Taiwan Province of China; Czech Republic    Agreement   \n",
       "\n",
       "                                                 Abstract  \\\n",
       "0       Cette loi organise la pêche dans les eaux terr...   \n",
       "1       The Decree establishes the maritime boundary o...   \n",
       "2       Ce texte comprend 4 articles. Il délimite la m...   \n",
       "3       Dans la première partie sur la réglementation ...   \n",
       "4       Ce texte crée une entreprise socialiste nation...   \n",
       "...                                                   ...   \n",
       "188233  These Regulations are enacted in accordance wi...   \n",
       "188234  This Act is enacted to establish an agricultur...   \n",
       "188235  This Licensing Agreement between the Governmen...   \n",
       "188236  Both Parties will, cooperate to promote the ex...   \n",
       "188237  In order to improve nuclear and radiation safe...   \n",
       "\n",
       "                        Primary subjects  \\\n",
       "0                              Fisheries   \n",
       "1                                    Sea   \n",
       "2                                    Sea   \n",
       "3                              Fisheries   \n",
       "4                              Fisheries   \n",
       "...                                  ...   \n",
       "188233                         Livestock   \n",
       "188234  Agricultural & rural development   \n",
       "188235                         Fisheries   \n",
       "188236                            Energy   \n",
       "188237               Energy; Environment   \n",
       "\n",
       "                                      Domain  \\\n",
       "0                Environment; Fisheries; Sea   \n",
       "1                                        Sea   \n",
       "2                                        Sea   \n",
       "3                                  Fisheries   \n",
       "4                                  Fisheries   \n",
       "...                                      ...   \n",
       "188233                             Livestock   \n",
       "188234                           Agriculture   \n",
       "188235                             Fisheries   \n",
       "188236                                Energy   \n",
       "188237  Energy; Waste & hazardous substances   \n",
       "\n",
       "                                                 Keywords  \n",
       "0       marine pollution; framework law; basic legisla...  \n",
       "1             maritime zone; territorial sea; sovereignty  \n",
       "2       territorial sea; maritime zone; EEZ-Exclusive ...  \n",
       "3       basic legislation; marine fisheries; navigatio...  \n",
       "4                 non-governmental entity; internal trade  \n",
       "...                                                   ...  \n",
       "188233                   animal health; animal production  \n",
       "188234  financial agricultural measures; subsidy/incen...  \n",
       "188235  marine fisheries; international agreement-text...  \n",
       "188236  nuclear energy; radiation; international agree...  \n",
       "188237  nuclear energy; radiation; international agree...  \n",
       "\n",
       "[188238 rows x 14 columns]>"
      ]
     },
     "execution_count": 10,
     "metadata": {},
     "output_type": "execute_result"
    }
   ],
   "source": [
    "df.describe"
   ]
  },
  {
   "cell_type": "code",
   "execution_count": 11,
   "metadata": {},
   "outputs": [
    {
     "data": {
      "text/plain": [
       "(188238, 14)"
      ]
     },
     "execution_count": 11,
     "metadata": {},
     "output_type": "execute_result"
    }
   ],
   "source": [
    "df.shape"
   ]
  },
  {
   "cell_type": "code",
   "execution_count": 8,
   "metadata": {
    "scrolled": true
   },
   "outputs": [
    {
     "data": {
      "text/html": [
       "<div>\n",
       "<style scoped>\n",
       "    .dataframe tbody tr th:only-of-type {\n",
       "        vertical-align: middle;\n",
       "    }\n",
       "\n",
       "    .dataframe tbody tr th {\n",
       "        vertical-align: top;\n",
       "    }\n",
       "\n",
       "    .dataframe thead th {\n",
       "        text-align: right;\n",
       "    }\n",
       "</style>\n",
       "<table border=\"1\" class=\"dataframe\">\n",
       "  <thead>\n",
       "    <tr style=\"text-align: right;\">\n",
       "      <th></th>\n",
       "      <th>Record Id</th>\n",
       "      <th>Record URL</th>\n",
       "      <th>Document URL</th>\n",
       "      <th>Title</th>\n",
       "      <th>Original title</th>\n",
       "      <th>Date of original text</th>\n",
       "      <th>Available website</th>\n",
       "      <th>Language of document</th>\n",
       "      <th>Country/Territory</th>\n",
       "      <th>Type of text</th>\n",
       "      <th>Abstract</th>\n",
       "      <th>Primary subjects</th>\n",
       "      <th>Domain</th>\n",
       "      <th>Keywords</th>\n",
       "    </tr>\n",
       "  </thead>\n",
       "  <tbody>\n",
       "    <tr>\n",
       "      <th>0</th>\n",
       "      <td>LEX-FAOC001001</td>\n",
       "      <td>http://www.fao.org/faolex/results/details/en/c...</td>\n",
       "      <td>http://faolex.fao.org/docs/pdf/alb1001F.pdf</td>\n",
       "      <td>Loi nº 6071 sur la pêche.</td>\n",
       "      <td>NaN</td>\n",
       "      <td>25-12-1979</td>\n",
       "      <td>NaN</td>\n",
       "      <td>French</td>\n",
       "      <td>Albania</td>\n",
       "      <td>Legislation</td>\n",
       "      <td>Cette loi organise la pêche dans les eaux terr...</td>\n",
       "      <td>Fisheries</td>\n",
       "      <td>Environment; Fisheries; Sea</td>\n",
       "      <td>marine pollution; framework law; basic legisla...</td>\n",
       "    </tr>\n",
       "    <tr>\n",
       "      <th>1</th>\n",
       "      <td>LEX-FAOC001002</td>\n",
       "      <td>http://www.fao.org/faolex/results/details/en/c...</td>\n",
       "      <td>http://faolex.fao.org/docs/pdf/alb1002E.pdf</td>\n",
       "      <td>Decree No. 4650 on the boundary of the People'...</td>\n",
       "      <td>NaN</td>\n",
       "      <td>09-03-1970</td>\n",
       "      <td>NaN</td>\n",
       "      <td>English; Italian</td>\n",
       "      <td>Albania</td>\n",
       "      <td>Regulation</td>\n",
       "      <td>The Decree establishes the maritime boundary o...</td>\n",
       "      <td>Sea</td>\n",
       "      <td>Sea</td>\n",
       "      <td>maritime zone; territorial sea; sovereignty</td>\n",
       "    </tr>\n",
       "    <tr>\n",
       "      <th>2</th>\n",
       "      <td>LEX-FAOC001003</td>\n",
       "      <td>http://www.fao.org/faolex/results/details/en/c...</td>\n",
       "      <td>http://faolex.fao.org/docs/pdf/alg1003.pdf; ht...</td>\n",
       "      <td>Décret nº 84-181 définissant les lignes de bas...</td>\n",
       "      <td>NaN</td>\n",
       "      <td>04-08-1984</td>\n",
       "      <td>www.un.org</td>\n",
       "      <td>French; English</td>\n",
       "      <td>Algeria</td>\n",
       "      <td>Regulation</td>\n",
       "      <td>Ce texte comprend 4 articles. Il délimite la m...</td>\n",
       "      <td>Sea</td>\n",
       "      <td>Sea</td>\n",
       "      <td>territorial sea; maritime zone; EEZ-Exclusive ...</td>\n",
       "    </tr>\n",
       "    <tr>\n",
       "      <th>3</th>\n",
       "      <td>LEX-FAOC001005</td>\n",
       "      <td>http://www.fao.org/faolex/results/details/en/c...</td>\n",
       "      <td>http://faolex.fao.org/docs/pdf/alg1005.pdf</td>\n",
       "      <td>Ordonnance nº 76-84 portant réglementation gén...</td>\n",
       "      <td>NaN</td>\n",
       "      <td>23-10-1976</td>\n",
       "      <td>NaN</td>\n",
       "      <td>French</td>\n",
       "      <td>Algeria</td>\n",
       "      <td>Legislation</td>\n",
       "      <td>Dans la première partie sur la réglementation ...</td>\n",
       "      <td>Fisheries</td>\n",
       "      <td>Fisheries</td>\n",
       "      <td>basic legislation; marine fisheries; navigatio...</td>\n",
       "    </tr>\n",
       "    <tr>\n",
       "      <th>4</th>\n",
       "      <td>LEX-FAOC001006</td>\n",
       "      <td>http://www.fao.org/faolex/results/details/en/c...</td>\n",
       "      <td>http://faolex.fao.org/docs/pdf/alg1006.pdf</td>\n",
       "      <td>Décret nº 79-236 portant création de l'entrepr...</td>\n",
       "      <td>NaN</td>\n",
       "      <td>24-11-1979</td>\n",
       "      <td>NaN</td>\n",
       "      <td>French</td>\n",
       "      <td>Algeria</td>\n",
       "      <td>Regulation</td>\n",
       "      <td>Ce texte crée une entreprise socialiste nation...</td>\n",
       "      <td>Fisheries</td>\n",
       "      <td>Fisheries</td>\n",
       "      <td>non-governmental entity; internal trade</td>\n",
       "    </tr>\n",
       "  </tbody>\n",
       "</table>\n",
       "</div>"
      ],
      "text/plain": [
       "        Record Id                                         Record URL  \\\n",
       "0  LEX-FAOC001001  http://www.fao.org/faolex/results/details/en/c...   \n",
       "1  LEX-FAOC001002  http://www.fao.org/faolex/results/details/en/c...   \n",
       "2  LEX-FAOC001003  http://www.fao.org/faolex/results/details/en/c...   \n",
       "3  LEX-FAOC001005  http://www.fao.org/faolex/results/details/en/c...   \n",
       "4  LEX-FAOC001006  http://www.fao.org/faolex/results/details/en/c...   \n",
       "\n",
       "                                        Document URL  \\\n",
       "0        http://faolex.fao.org/docs/pdf/alb1001F.pdf   \n",
       "1        http://faolex.fao.org/docs/pdf/alb1002E.pdf   \n",
       "2  http://faolex.fao.org/docs/pdf/alg1003.pdf; ht...   \n",
       "3         http://faolex.fao.org/docs/pdf/alg1005.pdf   \n",
       "4         http://faolex.fao.org/docs/pdf/alg1006.pdf   \n",
       "\n",
       "                                               Title Original title  \\\n",
       "0                          Loi nº 6071 sur la pêche.            NaN   \n",
       "1  Decree No. 4650 on the boundary of the People'...            NaN   \n",
       "2  Décret nº 84-181 définissant les lignes de bas...            NaN   \n",
       "3  Ordonnance nº 76-84 portant réglementation gén...            NaN   \n",
       "4  Décret nº 79-236 portant création de l'entrepr...            NaN   \n",
       "\n",
       "  Date of original text Available website Language of document  \\\n",
       "0            25-12-1979               NaN               French   \n",
       "1            09-03-1970               NaN     English; Italian   \n",
       "2            04-08-1984        www.un.org      French; English   \n",
       "3            23-10-1976               NaN               French   \n",
       "4            24-11-1979               NaN               French   \n",
       "\n",
       "  Country/Territory Type of text  \\\n",
       "0           Albania  Legislation   \n",
       "1           Albania   Regulation   \n",
       "2           Algeria   Regulation   \n",
       "3           Algeria  Legislation   \n",
       "4           Algeria   Regulation   \n",
       "\n",
       "                                            Abstract Primary subjects  \\\n",
       "0  Cette loi organise la pêche dans les eaux terr...        Fisheries   \n",
       "1  The Decree establishes the maritime boundary o...              Sea   \n",
       "2  Ce texte comprend 4 articles. Il délimite la m...              Sea   \n",
       "3  Dans la première partie sur la réglementation ...        Fisheries   \n",
       "4  Ce texte crée une entreprise socialiste nation...        Fisheries   \n",
       "\n",
       "                        Domain  \\\n",
       "0  Environment; Fisheries; Sea   \n",
       "1                          Sea   \n",
       "2                          Sea   \n",
       "3                    Fisheries   \n",
       "4                    Fisheries   \n",
       "\n",
       "                                            Keywords  \n",
       "0  marine pollution; framework law; basic legisla...  \n",
       "1        maritime zone; territorial sea; sovereignty  \n",
       "2  territorial sea; maritime zone; EEZ-Exclusive ...  \n",
       "3  basic legislation; marine fisheries; navigatio...  \n",
       "4            non-governmental entity; internal trade  "
      ]
     },
     "execution_count": 8,
     "metadata": {},
     "output_type": "execute_result"
    }
   ],
   "source": [
    "df.head()\n",
    "#list of columns that were dropped\n",
    "#write out of my plan with the analysis \n",
    "#discussion of the data set"
   ]
  },
  {
   "cell_type": "code",
   "execution_count": 9,
   "metadata": {},
   "outputs": [],
   "source": [
    "#columns that can be dropped - last amended date, regional organizations, territorial subdivision and repealed\n",
    "df_2 = df.drop(['Record Id', 'Record URL', 'Document URL', 'Original title','Available website'], axis=1)  "
   ]
  },
  {
   "cell_type": "code",
   "execution_count": 10,
   "metadata": {},
   "outputs": [],
   "source": [
    "df_2['LastDigit'] = df_2['Date of original text'].str[-4:]"
   ]
  },
  {
   "cell_type": "code",
   "execution_count": 12,
   "metadata": {},
   "outputs": [
    {
     "data": {
      "text/html": [
       "<div>\n",
       "<style scoped>\n",
       "    .dataframe tbody tr th:only-of-type {\n",
       "        vertical-align: middle;\n",
       "    }\n",
       "\n",
       "    .dataframe tbody tr th {\n",
       "        vertical-align: top;\n",
       "    }\n",
       "\n",
       "    .dataframe thead th {\n",
       "        text-align: right;\n",
       "    }\n",
       "</style>\n",
       "<table border=\"1\" class=\"dataframe\">\n",
       "  <thead>\n",
       "    <tr style=\"text-align: right;\">\n",
       "      <th></th>\n",
       "      <th>Title</th>\n",
       "      <th>Date of original text</th>\n",
       "      <th>Language of document</th>\n",
       "      <th>Country/Territory</th>\n",
       "      <th>Type of text</th>\n",
       "      <th>Abstract</th>\n",
       "      <th>Primary subjects</th>\n",
       "      <th>Domain</th>\n",
       "      <th>Keywords</th>\n",
       "      <th>LastDigit</th>\n",
       "    </tr>\n",
       "  </thead>\n",
       "  <tbody>\n",
       "    <tr>\n",
       "      <th>0</th>\n",
       "      <td>Loi nº 6071 sur la pêche.</td>\n",
       "      <td>25-12-1979</td>\n",
       "      <td>French</td>\n",
       "      <td>Albania</td>\n",
       "      <td>Legislation</td>\n",
       "      <td>Cette loi organise la pêche dans les eaux terr...</td>\n",
       "      <td>Fisheries</td>\n",
       "      <td>Environment; Fisheries; Sea</td>\n",
       "      <td>marine pollution; framework law; basic legisla...</td>\n",
       "      <td>1979</td>\n",
       "    </tr>\n",
       "    <tr>\n",
       "      <th>1</th>\n",
       "      <td>Decree No. 4650 on the boundary of the People'...</td>\n",
       "      <td>09-03-1970</td>\n",
       "      <td>English; Italian</td>\n",
       "      <td>Albania</td>\n",
       "      <td>Regulation</td>\n",
       "      <td>The Decree establishes the maritime boundary o...</td>\n",
       "      <td>Sea</td>\n",
       "      <td>Sea</td>\n",
       "      <td>maritime zone; territorial sea; sovereignty</td>\n",
       "      <td>1970</td>\n",
       "    </tr>\n",
       "    <tr>\n",
       "      <th>2</th>\n",
       "      <td>Décret nº 84-181 définissant les lignes de bas...</td>\n",
       "      <td>04-08-1984</td>\n",
       "      <td>French; English</td>\n",
       "      <td>Algeria</td>\n",
       "      <td>Regulation</td>\n",
       "      <td>Ce texte comprend 4 articles. Il délimite la m...</td>\n",
       "      <td>Sea</td>\n",
       "      <td>Sea</td>\n",
       "      <td>territorial sea; maritime zone; EEZ-Exclusive ...</td>\n",
       "      <td>1984</td>\n",
       "    </tr>\n",
       "    <tr>\n",
       "      <th>3</th>\n",
       "      <td>Ordonnance nº 76-84 portant réglementation gén...</td>\n",
       "      <td>23-10-1976</td>\n",
       "      <td>French</td>\n",
       "      <td>Algeria</td>\n",
       "      <td>Legislation</td>\n",
       "      <td>Dans la première partie sur la réglementation ...</td>\n",
       "      <td>Fisheries</td>\n",
       "      <td>Fisheries</td>\n",
       "      <td>basic legislation; marine fisheries; navigatio...</td>\n",
       "      <td>1976</td>\n",
       "    </tr>\n",
       "    <tr>\n",
       "      <th>4</th>\n",
       "      <td>Décret nº 79-236 portant création de l'entrepr...</td>\n",
       "      <td>24-11-1979</td>\n",
       "      <td>French</td>\n",
       "      <td>Algeria</td>\n",
       "      <td>Regulation</td>\n",
       "      <td>Ce texte crée une entreprise socialiste nation...</td>\n",
       "      <td>Fisheries</td>\n",
       "      <td>Fisheries</td>\n",
       "      <td>non-governmental entity; internal trade</td>\n",
       "      <td>1979</td>\n",
       "    </tr>\n",
       "  </tbody>\n",
       "</table>\n",
       "</div>"
      ],
      "text/plain": [
       "                                               Title Date of original text  \\\n",
       "0                          Loi nº 6071 sur la pêche.            25-12-1979   \n",
       "1  Decree No. 4650 on the boundary of the People'...            09-03-1970   \n",
       "2  Décret nº 84-181 définissant les lignes de bas...            04-08-1984   \n",
       "3  Ordonnance nº 76-84 portant réglementation gén...            23-10-1976   \n",
       "4  Décret nº 79-236 portant création de l'entrepr...            24-11-1979   \n",
       "\n",
       "  Language of document Country/Territory Type of text  \\\n",
       "0               French           Albania  Legislation   \n",
       "1     English; Italian           Albania   Regulation   \n",
       "2      French; English           Algeria   Regulation   \n",
       "3               French           Algeria  Legislation   \n",
       "4               French           Algeria   Regulation   \n",
       "\n",
       "                                            Abstract Primary subjects  \\\n",
       "0  Cette loi organise la pêche dans les eaux terr...        Fisheries   \n",
       "1  The Decree establishes the maritime boundary o...              Sea   \n",
       "2  Ce texte comprend 4 articles. Il délimite la m...              Sea   \n",
       "3  Dans la première partie sur la réglementation ...        Fisheries   \n",
       "4  Ce texte crée une entreprise socialiste nation...        Fisheries   \n",
       "\n",
       "                        Domain  \\\n",
       "0  Environment; Fisheries; Sea   \n",
       "1                          Sea   \n",
       "2                          Sea   \n",
       "3                    Fisheries   \n",
       "4                    Fisheries   \n",
       "\n",
       "                                            Keywords LastDigit  \n",
       "0  marine pollution; framework law; basic legisla...      1979  \n",
       "1        maritime zone; territorial sea; sovereignty      1970  \n",
       "2  territorial sea; maritime zone; EEZ-Exclusive ...      1984  \n",
       "3  basic legislation; marine fisheries; navigatio...      1976  \n",
       "4            non-governmental entity; internal trade      1979  "
      ]
     },
     "execution_count": 12,
     "metadata": {},
     "output_type": "execute_result"
    }
   ],
   "source": [
    "df_2.head()"
   ]
  },
  {
   "cell_type": "code",
   "execution_count": 23,
   "metadata": {},
   "outputs": [
    {
     "data": {
      "text/plain": [
       "<bound method IndexOpsMixin.value_counts of 0         1979\n",
       "1         1970\n",
       "2         1984\n",
       "3         1976\n",
       "4         1979\n",
       "          ... \n",
       "188233    2021\n",
       "188234    2020\n",
       "188235    1984\n",
       "188236    2014\n",
       "188237    2013\n",
       "Name: LastDigit, Length: 188238, dtype: object>"
      ]
     },
     "execution_count": 23,
     "metadata": {},
     "output_type": "execute_result"
    }
   ],
   "source": [
    "count = df_2['LastDigit'].value_counts\n",
    "count"
   ]
  },
  {
   "cell_type": "code",
   "execution_count": 16,
   "metadata": {},
   "outputs": [],
   "source": [
    "dates = df['LastDigit'].value_counts"
   ]
  },
  {
   "cell_type": "code",
   "execution_count": 24,
   "metadata": {},
   "outputs": [],
   "source": [
    "#make all countries lowercase letters so as not to bother in the cleaning process \n",
    "df['Country/Territory'] = df['Country/Territory'].str.lower()"
   ]
  },
  {
   "cell_type": "code",
   "execution_count": 41,
   "metadata": {},
   "outputs": [],
   "source": [
    "# new column to be created for commonwealth\n",
    "new_col2 = ['poverty','environment','inclusion','rural']\n",
    "\n",
    "# key words to look for, while creating new columns\n",
    "key_dict2 = {'poverty':['poverty','impoverished','poverty reduction', 'focus on poverty','impoverished areas', 'poor areas', 'poor rural areas'],\n",
    "            'environment':['environment','environmental protection','environmental sustainability','environmental focus','sustainable environment','green environment', 'green practices','environmental practices'],\n",
    "            'inclusion':['women', 'children', 'indigenous','inclusive practice','women and children','indigenous','inclusion'],\n",
    "            'rural':['rural','rural development','rural growth','rural focus','non urban development','non-urban development','agricultural regions']}"
   ]
  },
  {
   "cell_type": "code",
   "execution_count": 58,
   "metadata": {},
   "outputs": [],
   "source": [
    "# function to search keyword within abstract (text)\n",
    "def search(keys,text):\n",
    "    \n",
    "    # if text is string then it will search the keywords\n",
    "    if isinstance(text,str):\n",
    "        return any(key in text for key in keys)\n",
    "    \n",
    "    # for few entry there is no abstract i.e NaN, therefore handle it in else case\n",
    "    else:\n",
    "        return False\n",
    "    \n",
    "for col in new_col2:\n",
    "    df_2[col] = df_2['Abstract'].apply(lambda text:1 if search(key_dict2[col],text) else 0)"
   ]
  },
  {
   "cell_type": "code",
   "execution_count": 59,
   "metadata": {},
   "outputs": [],
   "source": [
    "poverty = df['poverty'].value_counts()\n",
    "rural = df['rural'].value_counts()\n",
    "inclusion = df['inclusion'].value_counts()\n",
    "environment = df['environment'].value_counts()"
   ]
  },
  {
   "cell_type": "code",
   "execution_count": 60,
   "metadata": {},
   "outputs": [
    {
     "data": {
      "text/plain": [
       "No     186664\n",
       "Yes      1574\n",
       "Name: poverty, dtype: int64"
      ]
     },
     "execution_count": 60,
     "metadata": {},
     "output_type": "execute_result"
    }
   ],
   "source": [
    "poverty"
   ]
  },
  {
   "cell_type": "code",
   "execution_count": 61,
   "metadata": {},
   "outputs": [
    {
     "data": {
      "text/plain": [
       "No     181525\n",
       "Yes      6713\n",
       "Name: rural, dtype: int64"
      ]
     },
     "execution_count": 61,
     "metadata": {},
     "output_type": "execute_result"
    }
   ],
   "source": [
    "rural"
   ]
  },
  {
   "cell_type": "code",
   "execution_count": 62,
   "metadata": {},
   "outputs": [
    {
     "data": {
      "text/plain": [
       "No     185034\n",
       "Yes      3204\n",
       "Name: inclusion, dtype: int64"
      ]
     },
     "execution_count": 62,
     "metadata": {},
     "output_type": "execute_result"
    }
   ],
   "source": [
    "inclusion"
   ]
  },
  {
   "cell_type": "code",
   "execution_count": 63,
   "metadata": {},
   "outputs": [
    {
     "data": {
      "text/plain": [
       "No     169940\n",
       "Yes     18298\n",
       "Name: environment, dtype: int64"
      ]
     },
     "execution_count": 63,
     "metadata": {},
     "output_type": "execute_result"
    }
   ],
   "source": [
    "environment"
   ]
  },
  {
   "cell_type": "markdown",
   "metadata": {},
   "source": [
    "# 6.2 begins here"
   ]
  },
  {
   "cell_type": "code",
   "execution_count": 64,
   "metadata": {},
   "outputs": [
    {
     "data": {
      "text/html": [
       "<div>\n",
       "<style scoped>\n",
       "    .dataframe tbody tr th:only-of-type {\n",
       "        vertical-align: middle;\n",
       "    }\n",
       "\n",
       "    .dataframe tbody tr th {\n",
       "        vertical-align: top;\n",
       "    }\n",
       "\n",
       "    .dataframe thead th {\n",
       "        text-align: right;\n",
       "    }\n",
       "</style>\n",
       "<table border=\"1\" class=\"dataframe\">\n",
       "  <thead>\n",
       "    <tr style=\"text-align: right;\">\n",
       "      <th></th>\n",
       "      <th>Title</th>\n",
       "      <th>Date of original text</th>\n",
       "      <th>Language of document</th>\n",
       "      <th>Country/Territory</th>\n",
       "      <th>texttype</th>\n",
       "      <th>Abstract</th>\n",
       "      <th>Primary subjects</th>\n",
       "      <th>Domain</th>\n",
       "      <th>Keywords</th>\n",
       "      <th>LastDigit</th>\n",
       "      <th>poverty</th>\n",
       "      <th>environment</th>\n",
       "      <th>inclusion</th>\n",
       "      <th>rural</th>\n",
       "    </tr>\n",
       "  </thead>\n",
       "  <tbody>\n",
       "    <tr>\n",
       "      <th>0</th>\n",
       "      <td>Loi nº 6071 sur la pêche.</td>\n",
       "      <td>25-12-1979</td>\n",
       "      <td>French</td>\n",
       "      <td>Albania</td>\n",
       "      <td>Legislation</td>\n",
       "      <td>Cette loi organise la pêche dans les eaux terr...</td>\n",
       "      <td>Fisheries</td>\n",
       "      <td>Environment; Fisheries; Sea</td>\n",
       "      <td>marine pollution; framework law; basic legisla...</td>\n",
       "      <td>1979</td>\n",
       "      <td>0</td>\n",
       "      <td>0</td>\n",
       "      <td>0</td>\n",
       "      <td>0</td>\n",
       "    </tr>\n",
       "    <tr>\n",
       "      <th>1</th>\n",
       "      <td>Decree No. 4650 on the boundary of the People'...</td>\n",
       "      <td>09-03-1970</td>\n",
       "      <td>English; Italian</td>\n",
       "      <td>Albania</td>\n",
       "      <td>Regulation</td>\n",
       "      <td>The Decree establishes the maritime boundary o...</td>\n",
       "      <td>Sea</td>\n",
       "      <td>Sea</td>\n",
       "      <td>maritime zone; territorial sea; sovereignty</td>\n",
       "      <td>1970</td>\n",
       "      <td>0</td>\n",
       "      <td>0</td>\n",
       "      <td>0</td>\n",
       "      <td>0</td>\n",
       "    </tr>\n",
       "    <tr>\n",
       "      <th>2</th>\n",
       "      <td>Décret nº 84-181 définissant les lignes de bas...</td>\n",
       "      <td>04-08-1984</td>\n",
       "      <td>French; English</td>\n",
       "      <td>Algeria</td>\n",
       "      <td>Regulation</td>\n",
       "      <td>Ce texte comprend 4 articles. Il délimite la m...</td>\n",
       "      <td>Sea</td>\n",
       "      <td>Sea</td>\n",
       "      <td>territorial sea; maritime zone; EEZ-Exclusive ...</td>\n",
       "      <td>1984</td>\n",
       "      <td>0</td>\n",
       "      <td>0</td>\n",
       "      <td>0</td>\n",
       "      <td>0</td>\n",
       "    </tr>\n",
       "    <tr>\n",
       "      <th>3</th>\n",
       "      <td>Ordonnance nº 76-84 portant réglementation gén...</td>\n",
       "      <td>23-10-1976</td>\n",
       "      <td>French</td>\n",
       "      <td>Algeria</td>\n",
       "      <td>Legislation</td>\n",
       "      <td>Dans la première partie sur la réglementation ...</td>\n",
       "      <td>Fisheries</td>\n",
       "      <td>Fisheries</td>\n",
       "      <td>basic legislation; marine fisheries; navigatio...</td>\n",
       "      <td>1976</td>\n",
       "      <td>0</td>\n",
       "      <td>0</td>\n",
       "      <td>0</td>\n",
       "      <td>0</td>\n",
       "    </tr>\n",
       "    <tr>\n",
       "      <th>4</th>\n",
       "      <td>Décret nº 79-236 portant création de l'entrepr...</td>\n",
       "      <td>24-11-1979</td>\n",
       "      <td>French</td>\n",
       "      <td>Algeria</td>\n",
       "      <td>Regulation</td>\n",
       "      <td>Ce texte crée une entreprise socialiste nation...</td>\n",
       "      <td>Fisheries</td>\n",
       "      <td>Fisheries</td>\n",
       "      <td>non-governmental entity; internal trade</td>\n",
       "      <td>1979</td>\n",
       "      <td>0</td>\n",
       "      <td>0</td>\n",
       "      <td>0</td>\n",
       "      <td>0</td>\n",
       "    </tr>\n",
       "  </tbody>\n",
       "</table>\n",
       "</div>"
      ],
      "text/plain": [
       "                                               Title Date of original text  \\\n",
       "0                          Loi nº 6071 sur la pêche.            25-12-1979   \n",
       "1  Decree No. 4650 on the boundary of the People'...            09-03-1970   \n",
       "2  Décret nº 84-181 définissant les lignes de bas...            04-08-1984   \n",
       "3  Ordonnance nº 76-84 portant réglementation gén...            23-10-1976   \n",
       "4  Décret nº 79-236 portant création de l'entrepr...            24-11-1979   \n",
       "\n",
       "  Language of document Country/Territory     texttype  \\\n",
       "0               French           Albania  Legislation   \n",
       "1     English; Italian           Albania   Regulation   \n",
       "2      French; English           Algeria   Regulation   \n",
       "3               French           Algeria  Legislation   \n",
       "4               French           Algeria   Regulation   \n",
       "\n",
       "                                            Abstract Primary subjects  \\\n",
       "0  Cette loi organise la pêche dans les eaux terr...        Fisheries   \n",
       "1  The Decree establishes the maritime boundary o...              Sea   \n",
       "2  Ce texte comprend 4 articles. Il délimite la m...              Sea   \n",
       "3  Dans la première partie sur la réglementation ...        Fisheries   \n",
       "4  Ce texte crée une entreprise socialiste nation...        Fisheries   \n",
       "\n",
       "                        Domain  \\\n",
       "0  Environment; Fisheries; Sea   \n",
       "1                          Sea   \n",
       "2                          Sea   \n",
       "3                    Fisheries   \n",
       "4                    Fisheries   \n",
       "\n",
       "                                            Keywords LastDigit  poverty  \\\n",
       "0  marine pollution; framework law; basic legisla...      1979        0   \n",
       "1        maritime zone; territorial sea; sovereignty      1970        0   \n",
       "2  territorial sea; maritime zone; EEZ-Exclusive ...      1984        0   \n",
       "3  basic legislation; marine fisheries; navigatio...      1976        0   \n",
       "4            non-governmental entity; internal trade      1979        0   \n",
       "\n",
       "   environment  inclusion  rural  \n",
       "0            0          0      0  \n",
       "1            0          0      0  \n",
       "2            0          0      0  \n",
       "3            0          0      0  \n",
       "4            0          0      0  "
      ]
     },
     "execution_count": 64,
     "metadata": {},
     "output_type": "execute_result"
    }
   ],
   "source": [
    "df_2.head()"
   ]
  },
  {
   "cell_type": "code",
   "execution_count": 46,
   "metadata": {},
   "outputs": [],
   "source": [
    "df_2 = df_2.rename(columns={\"Type of text\":\"texttype\"})\n",
    "#there isn't enough numerical data within this set to do a heat map "
   ]
  },
  {
   "cell_type": "code",
   "execution_count": 65,
   "metadata": {},
   "outputs": [
    {
     "data": {
      "text/plain": [
       "Title                    object\n",
       "Date of original text    object\n",
       "Language of document     object\n",
       "Country/Territory        object\n",
       "texttype                 object\n",
       "Abstract                 object\n",
       "Primary subjects         object\n",
       "Domain                   object\n",
       "Keywords                 object\n",
       "LastDigit                object\n",
       "poverty                   int64\n",
       "environment               int64\n",
       "inclusion                 int64\n",
       "rural                     int64\n",
       "dtype: object"
      ]
     },
     "execution_count": 65,
     "metadata": {},
     "output_type": "execute_result"
    }
   ],
   "source": [
    "df_2.dtypes"
   ]
  },
  {
   "cell_type": "code",
   "execution_count": 85,
   "metadata": {},
   "outputs": [],
   "source": [
    "#work on taking information from the data frame that can be used in heat maps\n",
    "df_2 = pd.read_csv(r\"C:\\Users\\eppin\\Desktop\\check.csv\")"
   ]
  },
  {
   "cell_type": "code",
   "execution_count": 48,
   "metadata": {},
   "outputs": [],
   "source": [
    "# Create a correlation heatmap using matplotlib\n",
    "#instead of doing this I applied some visualizations that might be useful to my data set\n",
    "df_2_count =  df_2.groupby(['LastDigit'],as_index=False).texttype.count()"
   ]
  },
  {
   "cell_type": "code",
   "execution_count": 86,
   "metadata": {},
   "outputs": [
    {
     "data": {
      "text/plain": [
       "0         1979\n",
       "1         1970\n",
       "2         1984\n",
       "3         1976\n",
       "4         1979\n",
       "          ... \n",
       "188097    2021\n",
       "188098    2020\n",
       "188099    1984\n",
       "188100    2014\n",
       "188101    2013\n",
       "Name: LastDigit, Length: 188102, dtype: int32"
      ]
     },
     "execution_count": 86,
     "metadata": {},
     "output_type": "execute_result"
    }
   ],
   "source": [
    "df_2['LastDigit'].astype(int)"
   ]
  },
  {
   "cell_type": "code",
   "execution_count": 45,
   "metadata": {},
   "outputs": [
    {
     "data": {
      "image/png": "[encoded data removed]",
      "text/plain": [
       "<Figure size 432x288 with 1 Axes>"
      ]
     },
     "metadata": {
      "needs_background": "light"
     },
     "output_type": "display_data"
    }
   ],
   "source": [
    "df_2_count = df_2[[\"Type of text\"]].apply(pd.value_counts) \n",
    "df_2_count.plot(kind=\"bar\")\n",
    "\n",
    "plt.show()"
   ]
  },
  {
   "cell_type": "code",
   "execution_count": 67,
   "metadata": {},
   "outputs": [],
   "source": [
    "sub = df_2[['LastDigit', 'poverty', 'environment', 'inclusion', 'rural']]"
   ]
  },
  {
   "cell_type": "code",
   "execution_count": 68,
   "metadata": {},
   "outputs": [
    {
     "data": {
      "text/html": [
       "<div>\n",
       "<style scoped>\n",
       "    .dataframe tbody tr th:only-of-type {\n",
       "        vertical-align: middle;\n",
       "    }\n",
       "\n",
       "    .dataframe tbody tr th {\n",
       "        vertical-align: top;\n",
       "    }\n",
       "\n",
       "    .dataframe thead th {\n",
       "        text-align: right;\n",
       "    }\n",
       "</style>\n",
       "<table border=\"1\" class=\"dataframe\">\n",
       "  <thead>\n",
       "    <tr style=\"text-align: right;\">\n",
       "      <th></th>\n",
       "      <th>poverty</th>\n",
       "      <th>environment</th>\n",
       "      <th>inclusion</th>\n",
       "      <th>rural</th>\n",
       "    </tr>\n",
       "  </thead>\n",
       "  <tbody>\n",
       "    <tr>\n",
       "      <th>poverty</th>\n",
       "      <td>1.000000</td>\n",
       "      <td>0.164441</td>\n",
       "      <td>0.325736</td>\n",
       "      <td>0.266733</td>\n",
       "    </tr>\n",
       "    <tr>\n",
       "      <th>environment</th>\n",
       "      <td>0.164441</td>\n",
       "      <td>1.000000</td>\n",
       "      <td>0.121663</td>\n",
       "      <td>0.081563</td>\n",
       "    </tr>\n",
       "    <tr>\n",
       "      <th>inclusion</th>\n",
       "      <td>0.325736</td>\n",
       "      <td>0.121663</td>\n",
       "      <td>1.000000</td>\n",
       "      <td>0.148989</td>\n",
       "    </tr>\n",
       "    <tr>\n",
       "      <th>rural</th>\n",
       "      <td>0.266733</td>\n",
       "      <td>0.081563</td>\n",
       "      <td>0.148989</td>\n",
       "      <td>1.000000</td>\n",
       "    </tr>\n",
       "  </tbody>\n",
       "</table>\n",
       "</div>"
      ],
      "text/plain": [
       "              poverty  environment  inclusion     rural\n",
       "poverty      1.000000     0.164441   0.325736  0.266733\n",
       "environment  0.164441     1.000000   0.121663  0.081563\n",
       "inclusion    0.325736     0.121663   1.000000  0.148989\n",
       "rural        0.266733     0.081563   0.148989  1.000000"
      ]
     },
     "execution_count": 68,
     "metadata": {},
     "output_type": "execute_result"
    }
   ],
   "source": [
    "sub.corr()"
   ]
  },
  {
   "cell_type": "code",
   "execution_count": 69,
   "metadata": {},
   "outputs": [
    {
     "data": {
      "image/png": "[encoded data removed]",
      "text/plain": [
       "<Figure size 288x288 with 1 Axes>"
      ]
     },
     "metadata": {
      "needs_background": "light"
     },
     "output_type": "display_data"
    }
   ],
   "source": [
    "plt.matshow(sub.corr())\n",
    "plt.show()"
   ]
  },
  {
   "cell_type": "code",
   "execution_count": 70,
   "metadata": {},
   "outputs": [
    {
     "data": {
      "text/plain": [
       "Text(0.5, 1.0, 'Theme Correlations')"
      ]
     },
     "execution_count": 70,
     "metadata": {},
     "output_type": "execute_result"
    },
    {
     "data": {
      "image/png": "[encoded data removed]",
      "text/plain": [
       "<Figure size 288x288 with 2 Axes>"
      ]
     },
     "metadata": {
      "needs_background": "light"
     },
     "output_type": "display_data"
    }
   ],
   "source": [
    "# Add labels, a legend, and change the size of the heatmap\n",
    "\n",
    "f = plt.figure(figsize=(4, 4)) # figure size \n",
    "plt.matshow(sub.corr(), fignum=f.number) # type of plot\n",
    "plt.xticks(range(sub.shape[1]), sub.columns, fontsize=14, rotation=45) # x axis labels\n",
    "plt.yticks(range(sub.shape[1]), sub.columns, fontsize=14) # y axis labels\n",
    "cb = plt.colorbar() # add a colour legend (called colorbar)\n",
    "cb.ax.tick_params(labelsize=14) # add font size\n",
    "plt.title('Theme Correlations', fontsize=14) # add title"
   ]
  },
  {
   "cell_type": "code",
   "execution_count": 71,
   "metadata": {},
   "outputs": [
    {
     "data": {
      "image/png": "[encoded data removed]",
      "text/plain": [
       "<Figure size 360x360 with 2 Axes>"
      ]
     },
     "metadata": {
      "needs_background": "light"
     },
     "output_type": "display_data"
    }
   ],
   "source": [
    "# Create a subplot with matplotlib\n",
    "f,ax = plt.subplots(figsize=(5,5))\n",
    "\n",
    "# Create the correlation heatmap in seaborn by applying a heatmap onto the correlation matrix and the subplots defined above.\n",
    "corr = sns.heatmap(sub.corr(), annot = True, ax = ax) # The `annot` argument allows the plot to \n",
    "#place the correlation coefficients onto the heatmap."
   ]
  },
  {
   "cell_type": "code",
   "execution_count": 87,
   "metadata": {},
   "outputs": [
    {
     "data": {
      "text/plain": [
       "<seaborn.axisgrid.FacetGrid at 0x2401bbae070>"
      ]
     },
     "execution_count": 87,
     "metadata": {},
     "output_type": "execute_result"
    },
    {
     "data": {
      "image/png": "[encoded data removed]",
      "text/plain": [
       "<Figure size 360x360 with 1 Axes>"
      ]
     },
     "metadata": {
      "needs_background": "light"
     },
     "output_type": "display_data"
    }
   ],
   "source": [
    "# Create a scatterplot for the \"house age\" and \"price per unit\" columns in seaborn\n",
    "\n",
    "sns.lmplot(x = 'LastDigit', y = 'environment', data = df_2)"
   ]
  },
  {
   "cell_type": "markdown",
   "metadata": {},
   "source": [
    "Pair Plots"
   ]
  },
  {
   "cell_type": "code",
   "execution_count": 88,
   "metadata": {},
   "outputs": [
    {
     "data": {
      "image/png": "[encoded data removed]",
      "text/plain": [
       "<Figure size 432x288 with 1 Axes>"
      ]
     },
     "metadata": {
      "needs_background": "light"
     },
     "output_type": "display_data"
    }
   ],
   "source": [
    "sub_count = sub[['environment', 'poverty', 'rural', 'inclusion']].apply(pd.value_counts) \n",
    "sub_count.plot(kind=\"bar\")\n",
    "\n",
    "plt.show()"
   ]
  },
  {
   "cell_type": "code",
   "execution_count": 89,
   "metadata": {},
   "outputs": [
    {
     "data": {
      "text/plain": [
       "<AxesSubplot:xlabel='LastDigit', ylabel='poverty'>"
      ]
     },
     "execution_count": 89,
     "metadata": {},
     "output_type": "execute_result"
    },
    {
     "data": {
      "image/png": "[encoded data removed]",
      "text/plain": [
       "<Figure size 432x288 with 1 Axes>"
      ]
     },
     "metadata": {
      "needs_background": "light"
     },
     "output_type": "display_data"
    }
   ],
   "source": [
    "#Scatterplot \n",
    "sns.scatterplot(x = 'LastDigit', y = 'poverty',data = df_2)"
   ]
  },
  {
   "cell_type": "code",
   "execution_count": null,
   "metadata": {},
   "outputs": [],
   "source": []
  },
  {
   "cell_type": "code",
   "execution_count": 83,
   "metadata": {},
   "outputs": [
    {
     "data": {
      "image/png": "[encoded data removed]",
      "text/plain": [
       "<Figure size 720x720 with 20 Axes>"
      ]
     },
     "metadata": {
      "needs_background": "light"
     },
     "output_type": "display_data"
    }
   ],
   "source": [
    "# Create a pair plot \n",
    "g = sns.pairplot(sub_2)"
   ]
  },
  {
   "cell_type": "code",
   "execution_count": 95,
   "metadata": {},
   "outputs": [],
   "source": [
    "df_2.to_csv('faolax_values.csv')"
   ]
  },
  {
   "cell_type": "code",
   "execution_count": null,
   "metadata": {},
   "outputs": [],
   "source": []
  }
 ],
 "metadata": {
  "kernelspec": {
   "display_name": "Python 3",
   "language": "python",
   "name": "python3"
  },
  "language_info": {
   "codemirror_mode": {
    "name": "ipython",
    "version": 3
   },
   "file_extension": ".py",
   "mimetype": "text/x-python",
   "name": "python",
   "nbconvert_exporter": "python",
   "pygments_lexer": "ipython3",
   "version": "3.8.5"
  }
 },
 "nbformat": 4,
 "nbformat_minor": 4
}

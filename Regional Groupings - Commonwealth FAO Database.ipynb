{
 "cells": [
  {
   "cell_type": "markdown",
   "metadata": {},
   "source": [
    "Regional Groupings and Findings"
   ]
  },
  {
   "cell_type": "code",
   "execution_count": 1,
   "metadata": {},
   "outputs": [],
   "source": [
    "import pandas as pd\n",
    "import numpy as np"
   ]
  },
  {
   "cell_type": "code",
   "execution_count": 2,
   "metadata": {
    "scrolled": true
   },
   "outputs": [],
   "source": [
    "# http://extwprlegs1.fao.org/docs/pdf/FAOLEX_Agriculture.zip?\n",
    "# download the data from above link and save \n",
    "# enter the correct path and load the dataset\n",
    "\n",
    "T = pd.read_csv(r\"C:\\Users\\eppin\\Documents\\T\\TEST.csv\")"
   ]
  },
  {
   "cell_type": "code",
   "execution_count": 3,
   "metadata": {},
   "outputs": [],
   "source": [
    "#df_2 = pd.read_csv(r\"C:\\Users\\eppin\\Documents\\T\\df_1.csv\")"
   ]
  },
  {
   "cell_type": "code",
   "execution_count": 4,
   "metadata": {},
   "outputs": [
    {
     "data": {
      "text/plain": [
       "(554, 16)"
      ]
     },
     "execution_count": 4,
     "metadata": {},
     "output_type": "execute_result"
    }
   ],
   "source": [
    "T.shape"
   ]
  },
  {
   "cell_type": "code",
   "execution_count": 5,
   "metadata": {},
   "outputs": [],
   "source": [
    "country_count = T['Country/Territory'].value_counts()\n",
    "country_unique = T['Country/Territory'].unique()"
   ]
  },
  {
   "cell_type": "code",
   "execution_count": 35,
   "metadata": {},
   "outputs": [],
   "source": [
    "df_2 = country_count"
   ]
  },
  {
   "cell_type": "code",
   "execution_count": 33,
   "metadata": {},
   "outputs": [
    {
     "name": "stdout",
     "output_type": "stream",
     "text": [
      "kenya                    30\n",
      "rwanda                   30\n",
      "tanzania, un. rep. of    22\n",
      "ghana                    21\n",
      "uganda                   17\n",
      "                         ..\n",
      "KIRIBATI                  1\n",
      "new zealand               1\n",
      "malta                     1\n",
      "brunei darussalam         1\n",
      "SOLOMON ISLANDS           1\n",
      "Name: Country/Territory, Length: 102, dtype: int64\n"
     ]
    }
   ],
   "source": [
    "print(country_count)"
   ]
  },
  {
   "cell_type": "code",
   "execution_count": 7,
   "metadata": {},
   "outputs": [],
   "source": [
    "#df_appended.head()"
   ]
  },
  {
   "cell_type": "code",
   "execution_count": 8,
   "metadata": {},
   "outputs": [],
   "source": [
    "#run a key word search of focus of document - to create charts for the overall findings analysis\n",
    "#poverty reduction, poverty eradication, food security, water security, pro-poor \n",
    "#sustainable development, environmental protection, green technologies\n",
    "#women, inclusive, inclusion, youth, children, indigenous\n",
    "#rural development, smallhold, farmers, agricultural stakeholders, fishery stakeholders"
   ]
  },
  {
   "cell_type": "code",
   "execution_count": 9,
   "metadata": {},
   "outputs": [
    {
     "data": {
      "text/plain": [
       "['Country/Territory',\n",
       " 'Nature of Document',\n",
       " 'Title',\n",
       " 'Date of original text',\n",
       " 'Available Online',\n",
       " 'Link',\n",
       " 'Definitions of Data',\n",
       " 'Focus',\n",
       " 'Target Beneficiaries/Sectors',\n",
       " 'Key Elements',\n",
       " \"Does this Regulation/ Policy mirror any other Country's (Yes/No?)\",\n",
       " 'Policy/Regulation it mirrors',\n",
       " 'Countries',\n",
       " 'Categories',\n",
       " 'Tags',\n",
       " 'old/new']"
      ]
     },
     "execution_count": 9,
     "metadata": {},
     "output_type": "execute_result"
    }
   ],
   "source": [
    "list(T)"
   ]
  },
  {
   "cell_type": "code",
   "execution_count": 10,
   "metadata": {},
   "outputs": [],
   "source": [
    "# select necessary columns NOT ALWAYS NECESSARY\n",
    "#imp_col = ['Country/Territory','Title','Date of original text', 'Focus','Target Beneficiaries/Sectors','Key Elements','Categories','Tags']"
   ]
  },
  {
   "cell_type": "code",
   "execution_count": 11,
   "metadata": {},
   "outputs": [],
   "source": [
    "#try to make clean as possible for key word search"
   ]
  },
  {
   "cell_type": "code",
   "execution_count": 12,
   "metadata": {},
   "outputs": [],
   "source": [
    "#make all columns lowercase letters so as not to bother in the analysis process \n",
    "T['Country/Territory'] = T['Country/Territory'].str.lower()\n",
    "T['Focus'] = T['Focus'].str.lower()\n",
    "T['Target Beneficiaries/Sectors'] = T['Target Beneficiaries/Sectors'].str.lower()"
   ]
  },
  {
   "cell_type": "code",
   "execution_count": 13,
   "metadata": {},
   "outputs": [
    {
     "data": {
      "text/html": [
       "<div>\n",
       "<style scoped>\n",
       "    .dataframe tbody tr th:only-of-type {\n",
       "        vertical-align: middle;\n",
       "    }\n",
       "\n",
       "    .dataframe tbody tr th {\n",
       "        vertical-align: top;\n",
       "    }\n",
       "\n",
       "    .dataframe thead th {\n",
       "        text-align: right;\n",
       "    }\n",
       "</style>\n",
       "<table border=\"1\" class=\"dataframe\">\n",
       "  <thead>\n",
       "    <tr style=\"text-align: right;\">\n",
       "      <th></th>\n",
       "      <th>Country/Territory</th>\n",
       "      <th>Nature of Document</th>\n",
       "      <th>Title</th>\n",
       "      <th>Date of original text</th>\n",
       "      <th>Available Online</th>\n",
       "      <th>Link</th>\n",
       "      <th>Definitions of Data</th>\n",
       "      <th>Focus</th>\n",
       "      <th>Target Beneficiaries/Sectors</th>\n",
       "      <th>Key Elements</th>\n",
       "      <th>Does this Regulation/ Policy mirror any other Country's (Yes/No?)</th>\n",
       "      <th>Policy/Regulation it mirrors</th>\n",
       "      <th>Countries</th>\n",
       "      <th>Categories</th>\n",
       "      <th>Tags</th>\n",
       "      <th>old/new</th>\n",
       "    </tr>\n",
       "  </thead>\n",
       "  <tbody>\n",
       "    <tr>\n",
       "      <th>0</th>\n",
       "      <td>kenya</td>\n",
       "      <td>Policy</td>\n",
       "      <td>Ministry of Agriculture, Livestock and Fisheri...</td>\n",
       "      <td>2013</td>\n",
       "      <td>Yes</td>\n",
       "      <td>http://faolex.fao.org/docs/pdf/ken163155.pdf</td>\n",
       "      <td>NaN</td>\n",
       "      <td>the ministry of agriculture, livestock and fis...</td>\n",
       "      <td>rural impoverished areas, youth in agriculture</td>\n",
       "      <td>agricultural development; agro-forestry; capac...</td>\n",
       "      <td>yes</td>\n",
       "      <td>annex_2</td>\n",
       "      <td>annex_2</td>\n",
       "      <td>na</td>\n",
       "      <td>Agricultural &amp; rural development</td>\n",
       "      <td>new</td>\n",
       "    </tr>\n",
       "    <tr>\n",
       "      <th>1</th>\n",
       "      <td>sri lanka</td>\n",
       "      <td>Policy</td>\n",
       "      <td>Mahinda Chintana Ă˘â‚¬â€ś Vision for the Future.</td>\n",
       "      <td>2010</td>\n",
       "      <td>Yes</td>\n",
       "      <td>http://faolex.fao.org/docs/pdf/srl170008.pdf</td>\n",
       "      <td>NaN</td>\n",
       "      <td>this policy aims at the sustainable developmen...</td>\n",
       "      <td>children's nutrition, urban areas clean water,...</td>\n",
       "      <td>agricultural development; agricultural land; b...</td>\n",
       "      <td>yes</td>\n",
       "      <td>annex_3</td>\n",
       "      <td>annex_3</td>\n",
       "      <td>na</td>\n",
       "      <td>National development &amp; poverty reduction</td>\n",
       "      <td>new</td>\n",
       "    </tr>\n",
       "    <tr>\n",
       "      <th>2</th>\n",
       "      <td>pakistan</td>\n",
       "      <td>Policy</td>\n",
       "      <td>National Food Security Policy.</td>\n",
       "      <td>2018</td>\n",
       "      <td>Yes</td>\n",
       "      <td>http://faolex.fao.org/docs/pdf/pak184963.pdf</td>\n",
       "      <td>NaN</td>\n",
       "      <td>this national food security policy is the firs...</td>\n",
       "      <td>cu5, pregnant women and mothers, general nutri...</td>\n",
       "      <td>food security; sustainable development; climat...</td>\n",
       "      <td>yes</td>\n",
       "      <td>annex_4</td>\n",
       "      <td>annex_4</td>\n",
       "      <td>na</td>\n",
       "      <td>Food &amp; nutrition</td>\n",
       "      <td>new</td>\n",
       "    </tr>\n",
       "    <tr>\n",
       "      <th>3</th>\n",
       "      <td>bangladesh</td>\n",
       "      <td>Policy</td>\n",
       "      <td>Seventh Five Year Plan FY2016 Ă˘â‚¬â€ś FY2020 ...</td>\n",
       "      <td>01/11/2015</td>\n",
       "      <td>Yes</td>\n",
       "      <td>http://faolex.fao.org/docs/pdf/bgd191139.pdf</td>\n",
       "      <td>NaN</td>\n",
       "      <td>this seventh five year plan fy2016 ă˘â‚¬â€ś fy...</td>\n",
       "      <td>inclusive and pro-poor</td>\n",
       "      <td>climate change; policy/planning; agricultural ...</td>\n",
       "      <td>yes</td>\n",
       "      <td>annex_5</td>\n",
       "      <td>annex_5</td>\n",
       "      <td>na</td>\n",
       "      <td>National development &amp; poverty reduction</td>\n",
       "      <td>new</td>\n",
       "    </tr>\n",
       "    <tr>\n",
       "      <th>4</th>\n",
       "      <td>sierra leone</td>\n",
       "      <td>Policy</td>\n",
       "      <td>Sierra Leone Agricultural Research Institute (...</td>\n",
       "      <td>Nov-11</td>\n",
       "      <td>Yes</td>\n",
       "      <td>http://faolex.fao.org/docs/pdf/sie199283.pdf</td>\n",
       "      <td>NaN</td>\n",
       "      <td>this strategic plan is the second nationwide s...</td>\n",
       "      <td>improve rural income, empower producers</td>\n",
       "      <td>sustainable development; research; cropsĂ‚Â ; ...</td>\n",
       "      <td>yes</td>\n",
       "      <td>annex_6</td>\n",
       "      <td>annex_6</td>\n",
       "      <td>na</td>\n",
       "      <td>Agricultural &amp; rural development</td>\n",
       "      <td>new</td>\n",
       "    </tr>\n",
       "  </tbody>\n",
       "</table>\n",
       "</div>"
      ],
      "text/plain": [
       "  Country/Territory Nature of Document  \\\n",
       "0             kenya             Policy   \n",
       "1         sri lanka             Policy   \n",
       "2          pakistan             Policy   \n",
       "3        bangladesh             Policy   \n",
       "4      sierra leone             Policy   \n",
       "\n",
       "                                               Title Date of original text  \\\n",
       "0  Ministry of Agriculture, Livestock and Fisheri...                  2013   \n",
       "1   Mahinda Chintana Ă˘â‚¬â€ś Vision for the Future.                  2010   \n",
       "2                     National Food Security Policy.                  2018   \n",
       "3  Seventh Five Year Plan FY2016 Ă˘â‚¬â€ś FY2020 ...            01/11/2015   \n",
       "4  Sierra Leone Agricultural Research Institute (...                Nov-11   \n",
       "\n",
       "  Available Online                                          Link  \\\n",
       "0              Yes  http://faolex.fao.org/docs/pdf/ken163155.pdf   \n",
       "1              Yes  http://faolex.fao.org/docs/pdf/srl170008.pdf   \n",
       "2              Yes  http://faolex.fao.org/docs/pdf/pak184963.pdf   \n",
       "3              Yes  http://faolex.fao.org/docs/pdf/bgd191139.pdf   \n",
       "4              Yes  http://faolex.fao.org/docs/pdf/sie199283.pdf   \n",
       "\n",
       "  Definitions of Data                                              Focus  \\\n",
       "0                 NaN  the ministry of agriculture, livestock and fis...   \n",
       "1                 NaN  this policy aims at the sustainable developmen...   \n",
       "2                 NaN  this national food security policy is the firs...   \n",
       "3                 NaN  this seventh five year plan fy2016 ă˘â‚¬â€ś fy...   \n",
       "4                 NaN  this strategic plan is the second nationwide s...   \n",
       "\n",
       "                        Target Beneficiaries/Sectors  \\\n",
       "0     rural impoverished areas, youth in agriculture   \n",
       "1  children's nutrition, urban areas clean water,...   \n",
       "2  cu5, pregnant women and mothers, general nutri...   \n",
       "3                             inclusive and pro-poor   \n",
       "4            improve rural income, empower producers   \n",
       "\n",
       "                                        Key Elements  \\\n",
       "0  agricultural development; agro-forestry; capac...   \n",
       "1  agricultural development; agricultural land; b...   \n",
       "2  food security; sustainable development; climat...   \n",
       "3  climate change; policy/planning; agricultural ...   \n",
       "4  sustainable development; research; cropsĂ‚Â ; ...   \n",
       "\n",
       "  Does this Regulation/ Policy mirror any other Country's (Yes/No?)  \\\n",
       "0                                                yes                  \n",
       "1                                                yes                  \n",
       "2                                                yes                  \n",
       "3                                                yes                  \n",
       "4                                                yes                  \n",
       "\n",
       "  Policy/Regulation it mirrors Countries Categories  \\\n",
       "0                      annex_2   annex_2         na   \n",
       "1                      annex_3   annex_3         na   \n",
       "2                      annex_4   annex_4         na   \n",
       "3                      annex_5   annex_5         na   \n",
       "4                      annex_6   annex_6         na   \n",
       "\n",
       "                                       Tags old/new  \n",
       "0          Agricultural & rural development     new  \n",
       "1  National development & poverty reduction     new  \n",
       "2                          Food & nutrition     new  \n",
       "3  National development & poverty reduction     new  \n",
       "4          Agricultural & rural development     new  "
      ]
     },
     "execution_count": 13,
     "metadata": {},
     "output_type": "execute_result"
    }
   ],
   "source": [
    "T.head()"
   ]
  },
  {
   "cell_type": "code",
   "execution_count": 14,
   "metadata": {},
   "outputs": [],
   "source": [
    "# new columns to be created based on few key word search\n",
    "new_col = ['Poverty','Environment', 'Inclusion',\n",
    "          'Rural']\n",
    "\n",
    "# key words to look for, while creating new columns\n",
    "key_dict = {'Poverty':['poverty reduction', 'poverty eradication', 'food security', 'water security', 'pro-poor'],\n",
    "            'Environment' :['sustainable development', 'environment', 'green technology'],\n",
    "            'Inclusion':['women', 'female', 'inclusive', 'inclusion', 'youth', 'children', 'indigenous'],\n",
    "            'Rural' :['rural', 'smallhold', 'agriculture stakeholders', 'fishery stakeholders']}"
   ]
  },
  {
   "cell_type": "code",
   "execution_count": 15,
   "metadata": {},
   "outputs": [],
   "source": [
    "# function to search keyword within abstract (text)\n",
    "def search(keys,text):\n",
    "    \n",
    "    # if text is string then it will search the keywords\n",
    "    if isinstance(text,str):\n",
    "        return any(key in text for key in keys)\n",
    "    \n",
    "    # for few entry there is no abstract i.e NaN, therefore handle it in else case\n",
    "    else:\n",
    "        return False\n",
    "    \n",
    "for col in new_col:\n",
    "    T[col] = T['Focus'].apply(lambda text:'1' if search(key_dict[col],text) else '0')"
   ]
  },
  {
   "cell_type": "code",
   "execution_count": 16,
   "metadata": {},
   "outputs": [
    {
     "data": {
      "text/html": [
       "<div>\n",
       "<style scoped>\n",
       "    .dataframe tbody tr th:only-of-type {\n",
       "        vertical-align: middle;\n",
       "    }\n",
       "\n",
       "    .dataframe tbody tr th {\n",
       "        vertical-align: top;\n",
       "    }\n",
       "\n",
       "    .dataframe thead th {\n",
       "        text-align: right;\n",
       "    }\n",
       "</style>\n",
       "<table border=\"1\" class=\"dataframe\">\n",
       "  <thead>\n",
       "    <tr style=\"text-align: right;\">\n",
       "      <th></th>\n",
       "      <th>Country/Territory</th>\n",
       "      <th>Nature of Document</th>\n",
       "      <th>Title</th>\n",
       "      <th>Date of original text</th>\n",
       "      <th>Available Online</th>\n",
       "      <th>Link</th>\n",
       "      <th>Definitions of Data</th>\n",
       "      <th>Focus</th>\n",
       "      <th>Target Beneficiaries/Sectors</th>\n",
       "      <th>Key Elements</th>\n",
       "      <th>Does this Regulation/ Policy mirror any other Country's (Yes/No?)</th>\n",
       "      <th>Policy/Regulation it mirrors</th>\n",
       "      <th>Countries</th>\n",
       "      <th>Categories</th>\n",
       "      <th>Tags</th>\n",
       "      <th>old/new</th>\n",
       "      <th>Poverty</th>\n",
       "      <th>Environment</th>\n",
       "      <th>Inclusion</th>\n",
       "      <th>Rural</th>\n",
       "    </tr>\n",
       "  </thead>\n",
       "  <tbody>\n",
       "    <tr>\n",
       "      <th>0</th>\n",
       "      <td>kenya</td>\n",
       "      <td>Policy</td>\n",
       "      <td>Ministry of Agriculture, Livestock and Fisheri...</td>\n",
       "      <td>2013</td>\n",
       "      <td>Yes</td>\n",
       "      <td>http://faolex.fao.org/docs/pdf/ken163155.pdf</td>\n",
       "      <td>NaN</td>\n",
       "      <td>the ministry of agriculture, livestock and fis...</td>\n",
       "      <td>rural impoverished areas, youth in agriculture</td>\n",
       "      <td>agricultural development; agro-forestry; capac...</td>\n",
       "      <td>yes</td>\n",
       "      <td>annex_2</td>\n",
       "      <td>annex_2</td>\n",
       "      <td>na</td>\n",
       "      <td>Agricultural &amp; rural development</td>\n",
       "      <td>new</td>\n",
       "      <td>0</td>\n",
       "      <td>1</td>\n",
       "      <td>1</td>\n",
       "      <td>1</td>\n",
       "    </tr>\n",
       "    <tr>\n",
       "      <th>1</th>\n",
       "      <td>sri lanka</td>\n",
       "      <td>Policy</td>\n",
       "      <td>Mahinda Chintana Ă˘â‚¬â€ś Vision for the Future.</td>\n",
       "      <td>2010</td>\n",
       "      <td>Yes</td>\n",
       "      <td>http://faolex.fao.org/docs/pdf/srl170008.pdf</td>\n",
       "      <td>NaN</td>\n",
       "      <td>this policy aims at the sustainable developmen...</td>\n",
       "      <td>children's nutrition, urban areas clean water,...</td>\n",
       "      <td>agricultural development; agricultural land; b...</td>\n",
       "      <td>yes</td>\n",
       "      <td>annex_3</td>\n",
       "      <td>annex_3</td>\n",
       "      <td>na</td>\n",
       "      <td>National development &amp; poverty reduction</td>\n",
       "      <td>new</td>\n",
       "      <td>1</td>\n",
       "      <td>1</td>\n",
       "      <td>1</td>\n",
       "      <td>1</td>\n",
       "    </tr>\n",
       "    <tr>\n",
       "      <th>2</th>\n",
       "      <td>pakistan</td>\n",
       "      <td>Policy</td>\n",
       "      <td>National Food Security Policy.</td>\n",
       "      <td>2018</td>\n",
       "      <td>Yes</td>\n",
       "      <td>http://faolex.fao.org/docs/pdf/pak184963.pdf</td>\n",
       "      <td>NaN</td>\n",
       "      <td>this national food security policy is the firs...</td>\n",
       "      <td>cu5, pregnant women and mothers, general nutri...</td>\n",
       "      <td>food security; sustainable development; climat...</td>\n",
       "      <td>yes</td>\n",
       "      <td>annex_4</td>\n",
       "      <td>annex_4</td>\n",
       "      <td>na</td>\n",
       "      <td>Food &amp; nutrition</td>\n",
       "      <td>new</td>\n",
       "      <td>1</td>\n",
       "      <td>1</td>\n",
       "      <td>1</td>\n",
       "      <td>1</td>\n",
       "    </tr>\n",
       "    <tr>\n",
       "      <th>3</th>\n",
       "      <td>bangladesh</td>\n",
       "      <td>Policy</td>\n",
       "      <td>Seventh Five Year Plan FY2016 Ă˘â‚¬â€ś FY2020 ...</td>\n",
       "      <td>01/11/2015</td>\n",
       "      <td>Yes</td>\n",
       "      <td>http://faolex.fao.org/docs/pdf/bgd191139.pdf</td>\n",
       "      <td>NaN</td>\n",
       "      <td>this seventh five year plan fy2016 ă˘â‚¬â€ś fy...</td>\n",
       "      <td>inclusive and pro-poor</td>\n",
       "      <td>climate change; policy/planning; agricultural ...</td>\n",
       "      <td>yes</td>\n",
       "      <td>annex_5</td>\n",
       "      <td>annex_5</td>\n",
       "      <td>na</td>\n",
       "      <td>National development &amp; poverty reduction</td>\n",
       "      <td>new</td>\n",
       "      <td>1</td>\n",
       "      <td>1</td>\n",
       "      <td>1</td>\n",
       "      <td>1</td>\n",
       "    </tr>\n",
       "    <tr>\n",
       "      <th>4</th>\n",
       "      <td>sierra leone</td>\n",
       "      <td>Policy</td>\n",
       "      <td>Sierra Leone Agricultural Research Institute (...</td>\n",
       "      <td>Nov-11</td>\n",
       "      <td>Yes</td>\n",
       "      <td>http://faolex.fao.org/docs/pdf/sie199283.pdf</td>\n",
       "      <td>NaN</td>\n",
       "      <td>this strategic plan is the second nationwide s...</td>\n",
       "      <td>improve rural income, empower producers</td>\n",
       "      <td>sustainable development; research; cropsĂ‚Â ; ...</td>\n",
       "      <td>yes</td>\n",
       "      <td>annex_6</td>\n",
       "      <td>annex_6</td>\n",
       "      <td>na</td>\n",
       "      <td>Agricultural &amp; rural development</td>\n",
       "      <td>new</td>\n",
       "      <td>1</td>\n",
       "      <td>1</td>\n",
       "      <td>1</td>\n",
       "      <td>1</td>\n",
       "    </tr>\n",
       "  </tbody>\n",
       "</table>\n",
       "</div>"
      ],
      "text/plain": [
       "  Country/Territory Nature of Document  \\\n",
       "0             kenya             Policy   \n",
       "1         sri lanka             Policy   \n",
       "2          pakistan             Policy   \n",
       "3        bangladesh             Policy   \n",
       "4      sierra leone             Policy   \n",
       "\n",
       "                                               Title Date of original text  \\\n",
       "0  Ministry of Agriculture, Livestock and Fisheri...                  2013   \n",
       "1   Mahinda Chintana Ă˘â‚¬â€ś Vision for the Future.                  2010   \n",
       "2                     National Food Security Policy.                  2018   \n",
       "3  Seventh Five Year Plan FY2016 Ă˘â‚¬â€ś FY2020 ...            01/11/2015   \n",
       "4  Sierra Leone Agricultural Research Institute (...                Nov-11   \n",
       "\n",
       "  Available Online                                          Link  \\\n",
       "0              Yes  http://faolex.fao.org/docs/pdf/ken163155.pdf   \n",
       "1              Yes  http://faolex.fao.org/docs/pdf/srl170008.pdf   \n",
       "2              Yes  http://faolex.fao.org/docs/pdf/pak184963.pdf   \n",
       "3              Yes  http://faolex.fao.org/docs/pdf/bgd191139.pdf   \n",
       "4              Yes  http://faolex.fao.org/docs/pdf/sie199283.pdf   \n",
       "\n",
       "  Definitions of Data                                              Focus  \\\n",
       "0                 NaN  the ministry of agriculture, livestock and fis...   \n",
       "1                 NaN  this policy aims at the sustainable developmen...   \n",
       "2                 NaN  this national food security policy is the firs...   \n",
       "3                 NaN  this seventh five year plan fy2016 ă˘â‚¬â€ś fy...   \n",
       "4                 NaN  this strategic plan is the second nationwide s...   \n",
       "\n",
       "                        Target Beneficiaries/Sectors  \\\n",
       "0     rural impoverished areas, youth in agriculture   \n",
       "1  children's nutrition, urban areas clean water,...   \n",
       "2  cu5, pregnant women and mothers, general nutri...   \n",
       "3                             inclusive and pro-poor   \n",
       "4            improve rural income, empower producers   \n",
       "\n",
       "                                        Key Elements  \\\n",
       "0  agricultural development; agro-forestry; capac...   \n",
       "1  agricultural development; agricultural land; b...   \n",
       "2  food security; sustainable development; climat...   \n",
       "3  climate change; policy/planning; agricultural ...   \n",
       "4  sustainable development; research; cropsĂ‚Â ; ...   \n",
       "\n",
       "  Does this Regulation/ Policy mirror any other Country's (Yes/No?)  \\\n",
       "0                                                yes                  \n",
       "1                                                yes                  \n",
       "2                                                yes                  \n",
       "3                                                yes                  \n",
       "4                                                yes                  \n",
       "\n",
       "  Policy/Regulation it mirrors Countries Categories  \\\n",
       "0                      annex_2   annex_2         na   \n",
       "1                      annex_3   annex_3         na   \n",
       "2                      annex_4   annex_4         na   \n",
       "3                      annex_5   annex_5         na   \n",
       "4                      annex_6   annex_6         na   \n",
       "\n",
       "                                       Tags old/new Poverty Environment  \\\n",
       "0          Agricultural & rural development     new       0           1   \n",
       "1  National development & poverty reduction     new       1           1   \n",
       "2                          Food & nutrition     new       1           1   \n",
       "3  National development & poverty reduction     new       1           1   \n",
       "4          Agricultural & rural development     new       1           1   \n",
       "\n",
       "  Inclusion Rural  \n",
       "0         1     1  \n",
       "1         1     1  \n",
       "2         1     1  \n",
       "3         1     1  \n",
       "4         1     1  "
      ]
     },
     "execution_count": 16,
     "metadata": {},
     "output_type": "execute_result"
    }
   ],
   "source": [
    "T.head()"
   ]
  },
  {
   "cell_type": "code",
   "execution_count": 17,
   "metadata": {},
   "outputs": [
    {
     "data": {
      "text/plain": [
       "(554, 20)"
      ]
     },
     "execution_count": 17,
     "metadata": {},
     "output_type": "execute_result"
    }
   ],
   "source": [
    "T.shape"
   ]
  },
  {
   "cell_type": "code",
   "execution_count": 18,
   "metadata": {},
   "outputs": [],
   "source": [
    "poverty_count = T['Poverty'].value_counts()\n",
    "environment_count = T['Environment'].value_counts()\n",
    "inclusion_count = T['Inclusion'].value_counts()\n",
    "rural_count = T['Rural'].value_counts()"
   ]
  },
  {
   "cell_type": "code",
   "execution_count": 19,
   "metadata": {},
   "outputs": [
    {
     "data": {
      "text/plain": [
       "0    339\n",
       "1    215\n",
       "Name: Poverty, dtype: int64"
      ]
     },
     "execution_count": 19,
     "metadata": {},
     "output_type": "execute_result"
    }
   ],
   "source": [
    "poverty_count"
   ]
  },
  {
   "cell_type": "code",
   "execution_count": 20,
   "metadata": {},
   "outputs": [
    {
     "data": {
      "text/plain": [
       "1    287\n",
       "0    267\n",
       "Name: Environment, dtype: int64"
      ]
     },
     "execution_count": 20,
     "metadata": {},
     "output_type": "execute_result"
    }
   ],
   "source": [
    "environment_count"
   ]
  },
  {
   "cell_type": "code",
   "execution_count": 21,
   "metadata": {},
   "outputs": [
    {
     "data": {
      "text/plain": [
       "1    283\n",
       "0    271\n",
       "Name: Inclusion, dtype: int64"
      ]
     },
     "execution_count": 21,
     "metadata": {},
     "output_type": "execute_result"
    }
   ],
   "source": [
    "inclusion_count"
   ]
  },
  {
   "cell_type": "code",
   "execution_count": 22,
   "metadata": {},
   "outputs": [
    {
     "data": {
      "text/plain": [
       "0    338\n",
       "1    216\n",
       "Name: Rural, dtype: int64"
      ]
     },
     "execution_count": 22,
     "metadata": {},
     "output_type": "execute_result"
    }
   ],
   "source": [
    "rural_count"
   ]
  },
  {
   "cell_type": "code",
   "execution_count": 23,
   "metadata": {},
   "outputs": [],
   "source": [
    "#df_appended.to_csv(r'C:\\Users\\eppin\\Documents\\T\\Appended.csv')"
   ]
  },
  {
   "cell_type": "markdown",
   "metadata": {},
   "source": [
    "Key element search"
   ]
  },
  {
   "cell_type": "code",
   "execution_count": 24,
   "metadata": {},
   "outputs": [],
   "source": [
    "# new columns to be created based on few key word search\n",
    "new_col = ['Poverty_key','Environment_key', 'Inclusion_key',\n",
    "          'Rural_key']\n",
    "\n",
    "# key words to look for, while creating new columns\n",
    "key_dict = {'Poverty_key':['poverty reduction', 'poverty eradication', 'food security', 'water security', 'pro-poor'],\n",
    "            'Environment_key' :['sustainable development', 'environment', 'green technology'],\n",
    "            'Inclusion_key':['women', 'female', 'inclusive', 'inclusion', 'youth', 'children', 'indigenous'],\n",
    "            'Rural_key' :['rural', 'smallhold', 'agriculture stakeholders', 'fishery stakeholders']}"
   ]
  },
  {
   "cell_type": "code",
   "execution_count": 25,
   "metadata": {},
   "outputs": [],
   "source": [
    "# function to search keyword within abstract (text)\n",
    "def search(keys,text):\n",
    "    \n",
    "    # if text is string then it will search the keywords\n",
    "    if isinstance(text,str):\n",
    "        return any(key in text for key in keys)\n",
    "    \n",
    "    # for few entry there is no abstract i.e NaN, therefore handle it in else case\n",
    "    else:\n",
    "        return False\n",
    "    \n",
    "for col in new_col:\n",
    "    T[col] = T['Key Elements'].apply(lambda text:'1' if search(key_dict[col],text) else '0')"
   ]
  },
  {
   "cell_type": "code",
   "execution_count": 26,
   "metadata": {},
   "outputs": [],
   "source": [
    "poverty_2_count = T['Poverty_key'].value_counts()\n",
    "environment_2_count = T['Environment_key'].value_counts()\n",
    "inclusion_2_count = T['Inclusion_key'].value_counts()\n",
    "rural_2_count = T['Rural_key'].value_counts()"
   ]
  },
  {
   "cell_type": "code",
   "execution_count": 27,
   "metadata": {},
   "outputs": [
    {
     "data": {
      "text/plain": [
       "0    348\n",
       "1    206\n",
       "Name: Poverty_key, dtype: int64"
      ]
     },
     "execution_count": 27,
     "metadata": {},
     "output_type": "execute_result"
    }
   ],
   "source": [
    "poverty_2_count"
   ]
  },
  {
   "cell_type": "code",
   "execution_count": 28,
   "metadata": {},
   "outputs": [
    {
     "data": {
      "text/plain": [
       "1    291\n",
       "0    263\n",
       "Name: Environment_key, dtype: int64"
      ]
     },
     "execution_count": 28,
     "metadata": {},
     "output_type": "execute_result"
    }
   ],
   "source": [
    "environment_2_count"
   ]
  },
  {
   "cell_type": "code",
   "execution_count": 29,
   "metadata": {},
   "outputs": [
    {
     "data": {
      "text/plain": [
       "0    396\n",
       "1    158\n",
       "Name: Inclusion_key, dtype: int64"
      ]
     },
     "execution_count": 29,
     "metadata": {},
     "output_type": "execute_result"
    }
   ],
   "source": [
    "inclusion_2_count"
   ]
  },
  {
   "cell_type": "code",
   "execution_count": 30,
   "metadata": {},
   "outputs": [
    {
     "data": {
      "text/plain": [
       "0    352\n",
       "1    202\n",
       "Name: Rural_key, dtype: int64"
      ]
     },
     "execution_count": 30,
     "metadata": {},
     "output_type": "execute_result"
    }
   ],
   "source": [
    "rural_2_count"
   ]
  },
  {
   "cell_type": "code",
   "execution_count": 32,
   "metadata": {},
   "outputs": [],
   "source": [
    "T.to_csv(r'C:\\\\\\\\\\\\\\\\Users\\\\\\\\\\\\\\\\eppin\\\\\\\\\\\\\\\\Nordea_task\\\\\\\\\\\\\\\\Faolax_06.03.csv')"
   ]
  },
  {
   "cell_type": "code",
   "execution_count": null,
   "metadata": {},
   "outputs": [],
   "source": []
  },
  {
   "cell_type": "code",
   "execution_count": null,
   "metadata": {},
   "outputs": [],
   "source": []
  }
 ],
 "metadata": {
  "kernelspec": {
   "display_name": "Python 3",
   "language": "python",
   "name": "python3"
  },
  "language_info": {
   "codemirror_mode": {
    "name": "ipython",
    "version": 3
   },
   "file_extension": ".py",
   "mimetype": "text/x-python",
   "name": "python",
   "nbconvert_exporter": "python",
   "pygments_lexer": "ipython3",
   "version": "3.8.5"
  }
 },
 "nbformat": 4,
 "nbformat_minor": 4
}
